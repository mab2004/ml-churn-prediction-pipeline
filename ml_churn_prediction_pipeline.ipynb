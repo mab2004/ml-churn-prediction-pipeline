{
  "nbformat": 4,
  "nbformat_minor": 0,
  "metadata": {
    "colab": {
      "provenance": [],
      "authorship_tag": "ABX9TyPkZuy4Hd81XPYz4igE8Hlx",
      "include_colab_link": true
    },
    "kernelspec": {
      "name": "python3",
      "display_name": "Python 3"
    },
    "language_info": {
      "name": "python"
    }
  },
  "cells": [
    {
      "cell_type": "markdown",
      "metadata": {
        "id": "view-in-github",
        "colab_type": "text"
      },
      "source": [
        "<a href=\"https://colab.research.google.com/github/mab2004/ml-churn-prediction-pipeline/blob/main/ml_churn_prediction_pipeline.ipynb\" target=\"_parent\"><img src=\"https://colab.research.google.com/assets/colab-badge.svg\" alt=\"Open In Colab\"/></a>"
      ]
    },
    {
      "cell_type": "markdown",
      "source": [
        "## Setup and Data Loading"
      ],
      "metadata": {
        "id": "uAeglTjDGCf_"
      }
    },
    {
      "cell_type": "code",
      "execution_count": null,
      "metadata": {
        "id": "uH8Rp87LDLLF"
      },
      "outputs": [],
      "source": [
        "!pip install scikit-learn pandas joblib"
      ]
    },
    {
      "cell_type": "code",
      "source": [
        "import pandas as pd\n",
        "import numpy as np\n",
        "from sklearn.model_selection import train_test_split\n",
        "\n",
        "FILE_PATH = \"Telco-Customer-Churn.csv\"\n",
        "\n",
        "# Load the dataset\n",
        "df = pd.read_csv(FILE_PATH)\n",
        "\n",
        "# Data Cleaning and Preparation\n",
        "df.drop('customerID', axis=1, inplace=True)\n",
        "df['TotalCharges'] = pd.to_numeric(df['TotalCharges'], errors='coerce')\n",
        "df['Churn'] = df['Churn'].map({'Yes': 1, 'No': 0})\n",
        "\n",
        "# Separate features (X) and target (y)\n",
        "X = df.drop('Churn', axis=1)\n",
        "y = df['Churn']\n",
        "\n",
        "# Split data\n",
        "X_train, X_test, y_train, y_test = train_test_split(X, y, test_size=0.2, random_state=42)\n",
        "\n",
        "print(\"Data loaded, cleaned, and split successfully.\")"
      ],
      "metadata": {
        "colab": {
          "base_uri": "https://localhost:8080/"
        },
        "id": "MZMJEMehFlk1",
        "outputId": "17e5fdfa-311c-45ad-da43-0efe9326280d"
      },
      "execution_count": 4,
      "outputs": [
        {
          "output_type": "stream",
          "name": "stdout",
          "text": [
            "Data loaded, cleaned, and split successfully.\n"
          ]
        }
      ]
    },
    {
      "cell_type": "markdown",
      "source": [
        "## Define Preprocessing Pipeline"
      ],
      "metadata": {
        "id": "cTUvJDXGGFNP"
      }
    },
    {
      "cell_type": "code",
      "source": [
        "from sklearn.pipeline import Pipeline\n",
        "from sklearn.preprocessing import StandardScaler, OneHotEncoder\n",
        "from sklearn.impute import SimpleImputer\n",
        "from sklearn.compose import ColumnTransformer\n",
        "\n",
        "# Identify features\n",
        "numerical_features = X.select_dtypes(include=np.number).columns.tolist()\n",
        "categorical_features = X.select_dtypes(include=['object']).columns.tolist()\n",
        "\n",
        "# Numerical Pipeline: Impute (median) -> Scale (StandardScaler)\n",
        "numerical_transformer = Pipeline(steps=[\n",
        "    ('imputer', SimpleImputer(strategy='median')),\n",
        "    ('scaler', StandardScaler())\n",
        "])\n",
        "\n",
        "# Categorical Pipeline: Impute (most frequent) -> Encode (OneHotEncoder)\n",
        "categorical_transformer = Pipeline(steps=[\n",
        "    ('imputer', SimpleImputer(strategy='most_frequent')),\n",
        "    ('onehot', OneHotEncoder(handle_unknown='ignore'))\n",
        "])\n",
        "\n",
        "# Combine transformers\n",
        "preprocessor = ColumnTransformer(\n",
        "    transformers=[\n",
        "        ('num', numerical_transformer, numerical_features),\n",
        "        ('cat', categorical_transformer, categorical_features)\n",
        "    ],\n",
        "    remainder='passthrough',\n",
        "    n_jobs=-1\n",
        ")\n",
        "\n",
        "print(\"Preprocessing pipeline defined.\")"
      ],
      "metadata": {
        "colab": {
          "base_uri": "https://localhost:8080/"
        },
        "id": "LXbQY3TBFpoV",
        "outputId": "6f4967ce-b416-4e4b-8723-069b77fb6e78"
      },
      "execution_count": 5,
      "outputs": [
        {
          "output_type": "stream",
          "name": "stdout",
          "text": [
            "Preprocessing pipeline defined.\n"
          ]
        }
      ]
    },
    {
      "cell_type": "markdown",
      "source": [
        "## Hyperparameter Tuning with GridSearchCV"
      ],
      "metadata": {
        "id": "K_9R2NZrGICn"
      }
    },
    {
      "cell_type": "code",
      "source": [
        "from sklearn.ensemble import RandomForestClassifier\n",
        "from sklearn.model_selection import GridSearchCV\n",
        "from sklearn.pipeline import Pipeline\n",
        "\n",
        "# Define the Random Forest Pipeline\n",
        "rf_pipeline = Pipeline(steps=[\n",
        "    ('preprocessor', preprocessor),\n",
        "    ('classifier', RandomForestClassifier(random_state=42))\n",
        "])\n",
        "\n",
        "# Define the parameter grid\n",
        "param_grid = {\n",
        "    'classifier__n_estimators': [100, 200],\n",
        "    'classifier__max_depth': [5, 10, None],\n",
        "    'classifier__min_samples_leaf': [2, 4]\n",
        "}\n",
        "\n",
        "# Create and fit GridSearchCV\n",
        "grid_search = GridSearchCV(\n",
        "    rf_pipeline,\n",
        "    param_grid,\n",
        "    cv=5,\n",
        "    scoring='accuracy',\n",
        "    verbose=1,\n",
        "    n_jobs=-1\n",
        ")\n",
        "\n",
        "print(\"Starting GridSearchCV...\")\n",
        "grid_search.fit(X_train, y_train)\n",
        "print(\"GridSearchCV complete.\")\n",
        "\n",
        "# Output results\n",
        "best_pipeline = grid_search.best_estimator_\n",
        "print(\"\\nBest Parameters:\", grid_search.best_params_)\n",
        "print(f\"Best CV Score: {grid_search.best_score_:.4f}\")\n",
        "print(f\"Final Test Set Accuracy: {best_pipeline.score(X_test, y_test):.4f}\")"
      ],
      "metadata": {
        "colab": {
          "base_uri": "https://localhost:8080/"
        },
        "id": "92kjIJdvFwBV",
        "outputId": "48550eef-a3f9-4e18-e448-687375ab9cf0"
      },
      "execution_count": 6,
      "outputs": [
        {
          "output_type": "stream",
          "name": "stdout",
          "text": [
            "Starting GridSearchCV...\n",
            "Fitting 5 folds for each of 12 candidates, totalling 60 fits\n",
            "GridSearchCV complete.\n",
            "\n",
            "Best Parameters: {'classifier__max_depth': 10, 'classifier__min_samples_leaf': 4, 'classifier__n_estimators': 100}\n",
            "Best CV Score: 0.8017\n",
            "Final Test Set Accuracy: 0.8091\n"
          ]
        }
      ]
    },
    {
      "cell_type": "markdown",
      "source": [
        "## Export the Complete Pipeline"
      ],
      "metadata": {
        "id": "Rcz9XDTaGKO_"
      }
    },
    {
      "cell_type": "code",
      "source": [
        "import joblib\n",
        "\n",
        "filename = 'churn_prediction_pipeline.joblib'\n",
        "\n",
        "# Export the fully-tuned pipeline\n",
        "joblib.dump(best_pipeline, filename)\n",
        "\n",
        "print(f\"Pipeline successfully exported to {filename}.\")\n",
        "\n",
        "# Verification (load and test)\n",
        "loaded_pipeline = joblib.load(filename)\n",
        "print(\"Pipeline loaded successfully.\")\n",
        "print(f\"Loaded Pipeline Test Accuracy: {loaded_pipeline.score(X_test, y_test):.4f}\")"
      ],
      "metadata": {
        "colab": {
          "base_uri": "https://localhost:8080/"
        },
        "id": "1u_LtBieGMTv",
        "outputId": "1e2ee689-fdbb-4a25-cecd-e07e98a9f899"
      },
      "execution_count": 8,
      "outputs": [
        {
          "output_type": "stream",
          "name": "stdout",
          "text": [
            "Pipeline successfully exported to churn_prediction_pipeline.joblib.\n",
            "Pipeline loaded successfully.\n",
            "Loaded Pipeline Test Accuracy: 0.8091\n"
          ]
        }
      ]
    }
  ]
}